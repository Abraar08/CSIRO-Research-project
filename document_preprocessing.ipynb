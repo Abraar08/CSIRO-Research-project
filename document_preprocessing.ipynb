{
 "cells": [
  {
   "cell_type": "code",
   "execution_count": 1,
   "metadata": {},
   "outputs": [],
   "source": [
    "import pandas as pd\n",
    "import numpy as np\n",
    "from preprocess import document_preprocess\n",
    "\n",
    "import pickle\n",
    "from progressbar import ProgressBar\n",
    "pbar = ProgressBar()"
   ]
  },
  {
   "cell_type": "code",
   "execution_count": 2,
   "metadata": {},
   "outputs": [],
   "source": [
    "data = pd.read_csv(r\"data\\Lens-AU.csv\")\n",
    "train = list((data['Abstract']+data['Title']).values.astype('U'))"
   ]
  },
  {
   "cell_type": "code",
   "execution_count": 3,
   "metadata": {},
   "outputs": [],
   "source": [
    "ob=document_preprocess(lemmatize=True, stop_words=True, singleton=True, custom_stop_words=[])"
   ]
  },
  {
   "cell_type": "code",
   "execution_count": 4,
   "metadata": {
    "scrolled": true
   },
   "outputs": [
    {
     "name": "stderr",
     "output_type": "stream",
     "text": [
      "100% |########################################################################|\n"
     ]
    }
   ],
   "source": [
    "tokens=[]\n",
    "\n",
    "for text in pbar(train):\n",
    "    filtered_list=ob.filter_word(text)\n",
    "    filtered_string =' '.join([str(item) for item in filtered_list])\n",
    "    tokens.append(ob.make_ngrams(filtered_string,2))"
   ]
  },
  {
   "cell_type": "code",
   "execution_count": 5,
   "metadata": {},
   "outputs": [],
   "source": [
    "preprocessed_doc=[]\n",
    "for i in tokens:\n",
    "    test_tok=''\n",
    "    for tok in i:\n",
    "        if len(tok)==2:\n",
    "            test_tok=test_tok + ' ' + str(tok[0])+'_'+str(tok[1])\n",
    "    preprocessed_doc.append(test_tok[1:])"
   ]
  },
  {
   "cell_type": "code",
   "execution_count": 11,
   "metadata": {},
   "outputs": [],
   "source": [
    "final_token=[]\n",
    "for i in tokens:\n",
    "    for tok in i:\n",
    "        final_token.append(str(tok))"
   ]
  },
  {
   "cell_type": "code",
   "execution_count": 12,
   "metadata": {},
   "outputs": [],
   "source": [
    "with open('tokens.pkl', 'wb') as f:\n",
    "    pickle.dump(final_token, f)"
   ]
  },
  {
   "cell_type": "code",
   "execution_count": 13,
   "metadata": {},
   "outputs": [],
   "source": [
    "with open('preprocessed_doc.pkl', 'wb') as f:\n",
    "    pickle.dump(preprocessed_doc, f)"
   ]
  }
 ],
 "metadata": {
  "kernelspec": {
   "display_name": "Python 3",
   "language": "python",
   "name": "python3"
  },
  "language_info": {
   "codemirror_mode": {
    "name": "ipython",
    "version": 3
   },
   "file_extension": ".py",
   "mimetype": "text/x-python",
   "name": "python",
   "nbconvert_exporter": "python",
   "pygments_lexer": "ipython3",
   "version": "3.8.3"
  }
 },
 "nbformat": 4,
 "nbformat_minor": 4
}
